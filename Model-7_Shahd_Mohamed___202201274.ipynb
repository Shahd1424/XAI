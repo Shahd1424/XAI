{
  "metadata": {
    "kernelspec": {
      "language": "python",
      "display_name": "Python 3",
      "name": "python3"
    },
    "language_info": {
      "name": "python",
      "version": "3.11.11",
      "mimetype": "text/x-python",
      "codemirror_mode": {
        "name": "ipython",
        "version": 3
      },
      "pygments_lexer": "ipython3",
      "nbconvert_exporter": "python",
      "file_extension": ".py"
    },
    "kaggle": {
      "accelerator": "gpu",
      "dataSources": [
        {
          "sourceId": 6717213,
          "sourceType": "datasetVersion",
          "datasetId": 1317048
        },
        {
          "sourceId": 11448573,
          "sourceType": "datasetVersion",
          "datasetId": 7172744
        }
      ],
      "dockerImageVersionId": 31011,
      "isInternetEnabled": true,
      "language": "python",
      "sourceType": "notebook",
      "isGpuEnabled": true
    },
    "colab": {
      "name": "Model3_Shahd Mohamed _ 202201274_Final",
      "provenance": []
    }
  },
  "nbformat_minor": 0,
  "nbformat": 4,
  "cells": [
    {
      "source": [
        "# IMPORTANT: RUN THIS CELL IN ORDER TO IMPORT YOUR KAGGLE DATA SOURCES,\n",
        "# THEN FEEL FREE TO DELETE THIS CELL.\n",
        "# NOTE: THIS NOTEBOOK ENVIRONMENT DIFFERS FROM KAGGLE'S PYTHON\n",
        "# ENVIRONMENT SO THERE MAY BE MISSING LIBRARIES USED BY YOUR\n",
        "# NOTEBOOK.\n",
        "import kagglehub\n",
        "andyczhao_covidx_cxr2_path = kagglehub.dataset_download('andyczhao/covidx-cxr2')\n",
        "shahdhamzawy_resnet50_path = kagglehub.dataset_download('shahdhamzawy/resnet50')\n",
        "\n",
        "print('Data source import complete.')\n"
      ],
      "metadata": {
        "id": "KXgpOsNux-hR"
      },
      "cell_type": "code",
      "outputs": [],
      "execution_count": null
    },
    {
      "cell_type": "code",
      "source": [],
      "metadata": {
        "_uuid": "8f2839f25d086af736a60e9eeb907d3b93b6e0e5",
        "_cell_guid": "b1076dfc-b9ad-4769-8c92-a6c4dae69d19",
        "trusted": true,
        "id": "KM4d6xicx-hT"
      },
      "outputs": [],
      "execution_count": null
    },
    {
      "cell_type": "code",
      "source": [
        "import pandas as pd\n",
        "import matplotlib.pyplot as plt\n",
        "import os\n",
        "import cv2\n",
        "import tensorflow as tf\n",
        "from tensorflow.keras.preprocessing.image import ImageDataGenerator\n",
        "from tensorflow.keras.layers import InputLayer, Dense, Dropout, GlobalAveragePooling2D\n",
        "from tensorflow.keras.models import Sequential\n",
        "from sklearn.metrics import classification_report\n",
        "from sklearn.metrics import confusion_matrix\n",
        "from sklearn.metrics import accuracy_score\n"
      ],
      "metadata": {
        "trusted": true,
        "execution": {
          "iopub.status.busy": "2025-05-01T09:49:10.322776Z",
          "iopub.execute_input": "2025-05-01T09:49:10.32357Z",
          "iopub.status.idle": "2025-05-01T09:49:10.327813Z",
          "shell.execute_reply.started": "2025-05-01T09:49:10.323539Z",
          "shell.execute_reply": "2025-05-01T09:49:10.327165Z"
        },
        "id": "4SQtkx1Xx-hU"
      },
      "outputs": [],
      "execution_count": null
    },
    {
      "cell_type": "code",
      "source": [
        "import numpy as np\n",
        "import pandas as pd\n",
        "from tqdm import tqdm\n",
        "import cv2\n",
        "from sklearn.utils import resample\n",
        "from sklearn.metrics import classification_report, accuracy_score, roc_auc_score\n",
        "from tensorflow.keras.preprocessing.image import ImageDataGenerator\n",
        "from tensorflow.keras.applications import VGG16\n",
        "from tensorflow.keras.models import Model\n",
        "from xgboost import XGBClassifier"
      ],
      "metadata": {
        "trusted": true,
        "execution": {
          "iopub.status.busy": "2025-05-01T09:49:15.861868Z",
          "iopub.execute_input": "2025-05-01T09:49:15.862324Z",
          "iopub.status.idle": "2025-05-01T09:49:15.868248Z",
          "shell.execute_reply.started": "2025-05-01T09:49:15.862295Z",
          "shell.execute_reply": "2025-05-01T09:49:15.867501Z"
        },
        "id": "8pVYgL0gx-hU"
      },
      "outputs": [],
      "execution_count": null
    },
    {
      "cell_type": "code",
      "source": [
        "from lime import lime_image\n",
        "from tensorflow.keras.preprocessing import image\n",
        "import tensorflow as tf\n",
        "import shap\n",
        "import tensorflow as tf\n",
        "import tensorflow as tf\n",
        "from tensorflow.keras import backend as K\n",
        "import tensorflow as tf"
      ],
      "metadata": {
        "trusted": true,
        "execution": {
          "iopub.status.busy": "2025-05-01T15:06:19.202705Z",
          "iopub.execute_input": "2025-05-01T15:06:19.202991Z",
          "iopub.status.idle": "2025-05-01T15:06:19.207312Z",
          "shell.execute_reply.started": "2025-05-01T15:06:19.202968Z",
          "shell.execute_reply": "2025-05-01T15:06:19.206778Z"
        },
        "id": "e5nRZsarx-hU"
      },
      "outputs": [],
      "execution_count": null
    },
    {
      "cell_type": "markdown",
      "source": [
        "# Data Exploration"
      ],
      "metadata": {
        "id": "PVf2VEgCx-hV"
      }
    },
    {
      "cell_type": "code",
      "source": [
        "data_path = os.path.join('/kaggle/input/covidx-cxr2')\n",
        "train_data_path = os.path.join(data_path, 'train')\n",
        "test_data_path = os.path.join(data_path,'test')\n",
        "train_df = pd.read_csv(os.path.join(data_path, 'train.txt'), sep=\" \", index_col=None, header=None)\n",
        "test_df = pd.read_csv(os.path.join(data_path, 'test.txt'), sep=\" \", index_col=None, header=None)"
      ],
      "metadata": {
        "trusted": true,
        "execution": {
          "iopub.status.busy": "2025-05-01T09:53:27.321668Z",
          "iopub.execute_input": "2025-05-01T09:53:27.322205Z",
          "iopub.status.idle": "2025-05-01T09:53:27.438096Z",
          "shell.execute_reply.started": "2025-05-01T09:53:27.322182Z",
          "shell.execute_reply": "2025-05-01T09:53:27.437569Z"
        },
        "id": "5pKXi6ZCx-hV"
      },
      "outputs": [],
      "execution_count": null
    },
    {
      "cell_type": "code",
      "source": [
        "val_data_path = os.path.join(data_path,'val')\n",
        "\n",
        "val_df = pd.read_csv(os.path.join(data_path, 'val.txt'), sep=\" \", index_col=None, header=None)\n"
      ],
      "metadata": {
        "trusted": true,
        "execution": {
          "iopub.status.busy": "2025-05-01T09:53:37.785583Z",
          "iopub.execute_input": "2025-05-01T09:53:37.785854Z",
          "iopub.status.idle": "2025-05-01T09:53:37.808737Z",
          "shell.execute_reply.started": "2025-05-01T09:53:37.785835Z",
          "shell.execute_reply": "2025-05-01T09:53:37.808023Z"
        },
        "id": "_sNoe23Cx-hW"
      },
      "outputs": [],
      "execution_count": null
    },
    {
      "cell_type": "code",
      "source": [
        "val_df.head()"
      ],
      "metadata": {
        "trusted": true,
        "execution": {
          "iopub.status.busy": "2025-05-01T09:53:51.300469Z",
          "iopub.execute_input": "2025-05-01T09:53:51.300749Z",
          "iopub.status.idle": "2025-05-01T09:53:51.308153Z",
          "shell.execute_reply.started": "2025-05-01T09:53:51.30073Z",
          "shell.execute_reply": "2025-05-01T09:53:51.307577Z"
        },
        "id": "R8JUTvQWx-hW"
      },
      "outputs": [],
      "execution_count": null
    },
    {
      "cell_type": "code",
      "source": [
        "train_df.head()"
      ],
      "metadata": {
        "trusted": true,
        "execution": {
          "iopub.status.busy": "2025-05-01T09:54:01.940188Z",
          "iopub.execute_input": "2025-05-01T09:54:01.940568Z",
          "iopub.status.idle": "2025-05-01T09:54:01.948051Z",
          "shell.execute_reply.started": "2025-05-01T09:54:01.940545Z",
          "shell.execute_reply": "2025-05-01T09:54:01.947324Z"
        },
        "id": "z9Vwx3mjx-hW"
      },
      "outputs": [],
      "execution_count": null
    },
    {
      "cell_type": "code",
      "source": [
        "train_df.drop(columns = [0,3], axis=1, inplace=True)\n",
        "test_df.drop(columns = [0,3], axis=1, inplace=True)\n",
        "val_df.drop(columns = [0,3], axis=1, inplace=True)"
      ],
      "metadata": {
        "trusted": true,
        "execution": {
          "iopub.status.busy": "2025-05-01T09:54:13.836762Z",
          "iopub.execute_input": "2025-05-01T09:54:13.837331Z",
          "iopub.status.idle": "2025-05-01T09:54:13.844509Z",
          "shell.execute_reply.started": "2025-05-01T09:54:13.837309Z",
          "shell.execute_reply": "2025-05-01T09:54:13.843789Z"
        },
        "id": "c0isX9Jvx-hW"
      },
      "outputs": [],
      "execution_count": null
    },
    {
      "cell_type": "code",
      "source": [
        "train_df = train_df.rename(columns = {1:'image_name', 2:'diagnosis'})\n",
        "test_df = test_df.rename(columns = {1:'image_name', 2:'diagnosis'})\n",
        "val_df=val_df.rename(columns = {1:'image_name', 2:'diagnosis'})"
      ],
      "metadata": {
        "trusted": true,
        "execution": {
          "iopub.status.busy": "2025-05-01T09:54:30.718874Z",
          "iopub.execute_input": "2025-05-01T09:54:30.71964Z",
          "iopub.status.idle": "2025-05-01T09:54:30.727556Z",
          "shell.execute_reply.started": "2025-05-01T09:54:30.719615Z",
          "shell.execute_reply": "2025-05-01T09:54:30.726654Z"
        },
        "id": "TQgr8kfox-hX"
      },
      "outputs": [],
      "execution_count": null
    },
    {
      "cell_type": "code",
      "source": [
        "train_df.head()"
      ],
      "metadata": {
        "trusted": true,
        "execution": {
          "iopub.status.busy": "2025-05-01T09:54:40.8533Z",
          "iopub.execute_input": "2025-05-01T09:54:40.854224Z",
          "iopub.status.idle": "2025-05-01T09:54:40.861026Z",
          "shell.execute_reply.started": "2025-05-01T09:54:40.854198Z",
          "shell.execute_reply": "2025-05-01T09:54:40.860396Z"
        },
        "id": "RtbAGWUYx-hX"
      },
      "outputs": [],
      "execution_count": null
    },
    {
      "cell_type": "code",
      "source": [
        "train_df.diagnosis.value_counts()"
      ],
      "metadata": {
        "trusted": true,
        "execution": {
          "iopub.status.busy": "2025-05-01T09:54:53.171346Z",
          "iopub.execute_input": "2025-05-01T09:54:53.171665Z",
          "iopub.status.idle": "2025-05-01T09:54:53.18246Z",
          "shell.execute_reply.started": "2025-05-01T09:54:53.171636Z",
          "shell.execute_reply": "2025-05-01T09:54:53.181679Z"
        },
        "id": "A_g5kfxpx-hX"
      },
      "outputs": [],
      "execution_count": null
    },
    {
      "cell_type": "code",
      "source": [
        "val_df.diagnosis.value_counts()"
      ],
      "metadata": {
        "trusted": true,
        "execution": {
          "iopub.status.busy": "2025-05-01T09:55:01.290139Z",
          "iopub.execute_input": "2025-05-01T09:55:01.29071Z",
          "iopub.status.idle": "2025-05-01T09:55:01.297011Z",
          "shell.execute_reply.started": "2025-05-01T09:55:01.290682Z",
          "shell.execute_reply": "2025-05-01T09:55:01.296266Z"
        },
        "id": "tqcsuBVQx-hX"
      },
      "outputs": [],
      "execution_count": null
    },
    {
      "cell_type": "code",
      "source": [
        "train_df.isnull().sum()"
      ],
      "metadata": {
        "trusted": true,
        "execution": {
          "iopub.status.busy": "2025-05-01T09:55:09.780038Z",
          "iopub.execute_input": "2025-05-01T09:55:09.780601Z",
          "iopub.status.idle": "2025-05-01T09:55:09.792562Z",
          "shell.execute_reply.started": "2025-05-01T09:55:09.780576Z",
          "shell.execute_reply": "2025-05-01T09:55:09.791785Z"
        },
        "id": "NcM8Mebux-hX"
      },
      "outputs": [],
      "execution_count": null
    },
    {
      "cell_type": "code",
      "source": [
        "train_df.duplicated().sum()"
      ],
      "metadata": {
        "trusted": true,
        "execution": {
          "iopub.status.busy": "2025-05-01T09:55:18.794012Z",
          "iopub.execute_input": "2025-05-01T09:55:18.794481Z",
          "iopub.status.idle": "2025-05-01T09:55:18.821251Z",
          "shell.execute_reply.started": "2025-05-01T09:55:18.794455Z",
          "shell.execute_reply": "2025-05-01T09:55:18.820697Z"
        },
        "id": "S8G4i1zFx-hX"
      },
      "outputs": [],
      "execution_count": null
    },
    {
      "cell_type": "code",
      "source": [
        "val_df.isnull().sum()"
      ],
      "metadata": {
        "trusted": true,
        "execution": {
          "iopub.status.busy": "2025-05-01T09:55:27.584994Z",
          "iopub.execute_input": "2025-05-01T09:55:27.58549Z",
          "iopub.status.idle": "2025-05-01T09:55:27.591935Z",
          "shell.execute_reply.started": "2025-05-01T09:55:27.585466Z",
          "shell.execute_reply": "2025-05-01T09:55:27.591311Z"
        },
        "id": "kV9x0fIAx-hX"
      },
      "outputs": [],
      "execution_count": null
    },
    {
      "cell_type": "code",
      "source": [
        "val_df.duplicated().sum()"
      ],
      "metadata": {
        "trusted": true,
        "execution": {
          "iopub.status.busy": "2025-05-01T09:55:36.014317Z",
          "iopub.execute_input": "2025-05-01T09:55:36.014622Z",
          "iopub.status.idle": "2025-05-01T09:55:36.021838Z",
          "shell.execute_reply.started": "2025-05-01T09:55:36.014601Z",
          "shell.execute_reply": "2025-05-01T09:55:36.021288Z"
        },
        "id": "tKwWBFF1x-hX"
      },
      "outputs": [],
      "execution_count": null
    },
    {
      "cell_type": "code",
      "source": [
        "rand_indx = np.random.randint(0,len(train_df),1)[0]\n",
        "img = cv2.imread(os.path.join(train_data_path, train_df.image_name[rand_indx]))\n",
        "plt.imshow(img/255)\n",
        "plt.title(train_df.diagnosis[rand_indx])\n",
        "plt.show()\n",
        "img.shape\n"
      ],
      "metadata": {
        "trusted": true,
        "execution": {
          "iopub.status.busy": "2025-05-01T09:55:45.052604Z",
          "iopub.execute_input": "2025-05-01T09:55:45.053303Z",
          "iopub.status.idle": "2025-05-01T09:55:45.631586Z",
          "shell.execute_reply.started": "2025-05-01T09:55:45.053276Z",
          "shell.execute_reply": "2025-05-01T09:55:45.630865Z"
        },
        "id": "heeFVO13x-hX"
      },
      "outputs": [],
      "execution_count": null
    },
    {
      "cell_type": "code",
      "source": [
        "from sklearn.model_selection import train_test_split"
      ],
      "metadata": {
        "trusted": true,
        "execution": {
          "iopub.status.busy": "2025-05-01T09:56:20.579269Z",
          "iopub.execute_input": "2025-05-01T09:56:20.579917Z",
          "iopub.status.idle": "2025-05-01T09:56:20.58339Z",
          "shell.execute_reply.started": "2025-05-01T09:56:20.579894Z",
          "shell.execute_reply": "2025-05-01T09:56:20.582677Z"
        },
        "id": "YoXzIzcjx-hX"
      },
      "outputs": [],
      "execution_count": null
    },
    {
      "cell_type": "code",
      "source": [
        "train_df, df_test = train_test_split(train_df, test_size=0.2, stratify=train_df['diagnosis'], random_state=42)"
      ],
      "metadata": {
        "trusted": true,
        "execution": {
          "iopub.status.busy": "2025-05-01T09:56:27.492976Z",
          "iopub.execute_input": "2025-05-01T09:56:27.493499Z",
          "iopub.status.idle": "2025-05-01T09:56:27.550033Z",
          "shell.execute_reply.started": "2025-05-01T09:56:27.493474Z",
          "shell.execute_reply": "2025-05-01T09:56:27.549436Z"
        },
        "id": "RLt-rBBkx-hX"
      },
      "outputs": [],
      "execution_count": null
    },
    {
      "cell_type": "code",
      "source": [
        "df_majority = train_df[train_df['diagnosis'] == 'positive']\n",
        "df_minority = train_df[train_df['diagnosis'] == 'negative']\n",
        "\n",
        "df_minority_upsampled = resample(df_minority,\n",
        "                                 replace=True,\n",
        "                                 n_samples=len(df_majority),\n",
        "                                 random_state=42)\n",
        "\n",
        "train_df = pd.concat([df_majority, df_minority_upsampled])\n",
        "train_df = train_df.sample(frac=1, random_state=42).reset_index(drop=True)"
      ],
      "metadata": {
        "trusted": true,
        "execution": {
          "iopub.status.busy": "2025-05-01T09:56:34.906428Z",
          "iopub.execute_input": "2025-05-01T09:56:34.90712Z",
          "iopub.status.idle": "2025-05-01T09:56:34.938926Z",
          "shell.execute_reply.started": "2025-05-01T09:56:34.907096Z",
          "shell.execute_reply": "2025-05-01T09:56:34.938406Z"
        },
        "id": "lANU94dDx-hY"
      },
      "outputs": [],
      "execution_count": null
    },
    {
      "cell_type": "code",
      "source": [
        "train_df.diagnosis.value_counts()"
      ],
      "metadata": {
        "trusted": true,
        "execution": {
          "iopub.status.busy": "2025-05-01T09:56:41.768875Z",
          "iopub.execute_input": "2025-05-01T09:56:41.769447Z",
          "iopub.status.idle": "2025-05-01T09:56:41.779409Z",
          "shell.execute_reply.started": "2025-05-01T09:56:41.769424Z",
          "shell.execute_reply": "2025-05-01T09:56:41.778756Z"
        },
        "id": "qZMHdSd-x-hY"
      },
      "outputs": [],
      "execution_count": null
    },
    {
      "cell_type": "code",
      "source": [
        "df_test.diagnosis.value_counts()"
      ],
      "metadata": {
        "trusted": true,
        "execution": {
          "iopub.status.busy": "2025-05-01T09:56:47.897934Z",
          "iopub.execute_input": "2025-05-01T09:56:47.898489Z",
          "iopub.status.idle": "2025-05-01T09:56:47.90498Z",
          "shell.execute_reply.started": "2025-05-01T09:56:47.898464Z",
          "shell.execute_reply": "2025-05-01T09:56:47.90434Z"
        },
        "id": "6YBVt9TEx-hY"
      },
      "outputs": [],
      "execution_count": null
    },
    {
      "cell_type": "code",
      "source": [
        "def custom_preprocess(img):\n",
        "    img = img.astype(np.uint8)\n",
        "    lab = cv2.cvtColor(img, cv2.COLOR_RGB2LAB)\n",
        "    l, a, b = cv2.split(lab)\n",
        "    clahe = cv2.createCLAHE(clipLimit=2.0, tileGridSize=(8, 8))\n",
        "    cl = clahe.apply(l)\n",
        "    lab = cv2.merge((cl, a, b))\n",
        "    img = cv2.cvtColor(lab, cv2.COLOR_LAB2RGB)\n",
        "\n",
        "    gray = cv2.cvtColor(img, cv2.COLOR_RGB2GRAY)\n",
        "    _, mask = cv2.threshold(gray, 30, 255, cv2.THRESH_BINARY)\n",
        "    mask = cv2.medianBlur(mask, 5)\n",
        "    mask = cv2.cvtColor(mask, cv2.COLOR_GRAY2RGB)\n",
        "    img = cv2.bitwise_and(img, mask)\n",
        "\n",
        "    return img.astype(np.float32) / 255.0\n"
      ],
      "metadata": {
        "trusted": true,
        "execution": {
          "iopub.status.busy": "2025-05-01T09:56:53.767076Z",
          "iopub.execute_input": "2025-05-01T09:56:53.767659Z",
          "iopub.status.idle": "2025-05-01T09:56:53.772658Z",
          "shell.execute_reply.started": "2025-05-01T09:56:53.767633Z",
          "shell.execute_reply": "2025-05-01T09:56:53.771923Z"
        },
        "id": "1xPHu8imx-hY"
      },
      "outputs": [],
      "execution_count": null
    },
    {
      "cell_type": "code",
      "source": [
        "IMG_SIZE = (224, 224)\n",
        "BATCH_SIZE = 32\n",
        "\n",
        "train_gen = ImageDataGenerator(\n",
        "    preprocessing_function=custom_preprocess,\n",
        "    rotation_range=15, zoom_range=0.1, horizontal_flip=True,\n",
        "    width_shift_range=0.05, height_shift_range=0.05\n",
        ").flow_from_dataframe(\n",
        "    dataframe=train_df, directory=train_data_path,\n",
        "    x_col='image_name', y_col='diagnosis',\n",
        "    target_size=IMG_SIZE, batch_size=BATCH_SIZE,\n",
        "    class_mode='binary', shuffle=True\n",
        ")\n",
        "\n",
        "val_gen = ImageDataGenerator(\n",
        "    preprocessing_function=custom_preprocess\n",
        ").flow_from_dataframe(\n",
        "    dataframe=val_df, directory=val_data_path,\n",
        "    x_col='image_name', y_col='diagnosis',\n",
        "    target_size=IMG_SIZE, batch_size=BATCH_SIZE,\n",
        "    class_mode='binary', shuffle=False\n",
        ")\n"
      ],
      "metadata": {
        "trusted": true,
        "execution": {
          "iopub.status.busy": "2025-05-01T09:57:00.176942Z",
          "iopub.execute_input": "2025-05-01T09:57:00.177207Z",
          "iopub.status.idle": "2025-05-01T09:59:13.741852Z",
          "shell.execute_reply.started": "2025-05-01T09:57:00.177189Z",
          "shell.execute_reply": "2025-05-01T09:59:13.741203Z"
        },
        "id": "D9izTcYdx-hY"
      },
      "outputs": [],
      "execution_count": null
    },
    {
      "cell_type": "code",
      "source": [
        "from tensorflow.keras.applications import ResNet50\n",
        "\n",
        "weights_path = '/kaggle/input/resnet50/resnet50_weights_tf_dim_ordering_tf_kernels_notop.h5'\n",
        "\n",
        "base_model = ResNet50(weights=weights_path, include_top=False, input_shape=(224, 224, 3))\n",
        "\n",
        "base_model.trainable = False"
      ],
      "metadata": {
        "trusted": true,
        "execution": {
          "iopub.status.busy": "2025-05-01T09:59:35.035289Z",
          "iopub.execute_input": "2025-05-01T09:59:35.035833Z",
          "iopub.status.idle": "2025-05-01T09:59:39.551149Z",
          "shell.execute_reply.started": "2025-05-01T09:59:35.03581Z",
          "shell.execute_reply": "2025-05-01T09:59:39.550345Z"
        },
        "id": "gQwNgICGx-hY"
      },
      "outputs": [],
      "execution_count": null
    },
    {
      "cell_type": "code",
      "source": [
        "  # Freeze the base model\n",
        "x = base_model.output\n",
        "x = GlobalAveragePooling2D()(x)\n",
        "x = Dropout(0.5)(x)\n",
        "x = Dense(256, activation='relu')(x)\n",
        "x = Dropout(0.5)(x)\n",
        "predictions = Dense(1, activation='sigmoid')(x)\n",
        "\n",
        "model = Model(inputs=base_model.input, outputs=predictions)\n",
        "\n",
        "model.compile(optimizer=Adam(learning_rate=1e-4),\n",
        "              loss='binary_crossentropy',\n",
        "              metrics=['accuracy'])\n"
      ],
      "metadata": {
        "trusted": true,
        "execution": {
          "iopub.status.busy": "2025-05-01T10:00:29.123533Z",
          "iopub.execute_input": "2025-05-01T10:00:29.123827Z",
          "iopub.status.idle": "2025-05-01T10:00:29.15723Z",
          "shell.execute_reply.started": "2025-05-01T10:00:29.123807Z",
          "shell.execute_reply": "2025-05-01T10:00:29.1564Z"
        },
        "id": "CLrafFK4x-hY"
      },
      "outputs": [],
      "execution_count": null
    },
    {
      "cell_type": "code",
      "source": [
        "from tensorflow.keras.callbacks import EarlyStopping, ModelCheckpoint\n",
        "\n",
        "early_stop = EarlyStopping(monitor='val_loss', patience=5, restore_best_weights=True)\n",
        "checkpoint = ModelCheckpoint('best_model.keras', monitor='val_loss', save_best_only=True)"
      ],
      "metadata": {
        "trusted": true,
        "execution": {
          "iopub.status.busy": "2025-05-01T10:00:52.577438Z",
          "iopub.execute_input": "2025-05-01T10:00:52.577745Z",
          "iopub.status.idle": "2025-05-01T10:00:52.582134Z",
          "shell.execute_reply.started": "2025-05-01T10:00:52.577724Z",
          "shell.execute_reply": "2025-05-01T10:00:52.58134Z"
        },
        "id": "S2B0UDA6x-hY"
      },
      "outputs": [],
      "execution_count": null
    },
    {
      "cell_type": "code",
      "source": [
        "EPOCHS = 5\n",
        "\n",
        "history = model.fit(\n",
        "    train_gen,\n",
        "    epochs=EPOCHS,\n",
        "    validation_data=val_gen,\n",
        "    callbacks=[early_stop, checkpoint]\n",
        ")"
      ],
      "metadata": {
        "trusted": true,
        "execution": {
          "iopub.status.busy": "2025-05-01T10:01:50.785746Z",
          "iopub.execute_input": "2025-05-01T10:01:50.786399Z",
          "iopub.status.idle": "2025-05-01T13:18:15.519282Z",
          "shell.execute_reply.started": "2025-05-01T10:01:50.786362Z",
          "shell.execute_reply": "2025-05-01T13:18:15.517862Z"
        },
        "id": "21OIMKwUx-hY"
      },
      "outputs": [],
      "execution_count": null
    },
    {
      "cell_type": "code",
      "source": [
        "test_gen = ImageDataGenerator(\n",
        "    preprocessing_function=custom_preprocess\n",
        ").flow_from_dataframe(\n",
        "    dataframe=df_test, directory=train_data_path,\n",
        "    x_col='image_name', y_col='diagnosis',\n",
        "    target_size=IMG_SIZE, batch_size=1,\n",
        "    class_mode='binary', shuffle=False\n",
        ")"
      ],
      "metadata": {
        "trusted": true,
        "execution": {
          "iopub.status.busy": "2025-05-01T13:33:47.602462Z",
          "iopub.execute_input": "2025-05-01T13:33:47.60272Z",
          "iopub.status.idle": "2025-05-01T13:34:33.956511Z",
          "shell.execute_reply.started": "2025-05-01T13:33:47.602702Z",
          "shell.execute_reply": "2025-05-01T13:34:33.955942Z"
        },
        "id": "0rLSUzOHx-hY"
      },
      "outputs": [],
      "execution_count": null
    },
    {
      "cell_type": "code",
      "source": [
        "from sklearn.metrics import classification_report, accuracy_score, roc_auc_score\n",
        "y_test = test_gen.classes\n",
        "y_proba_test = model.predict(test_gen, verbose=1)\n",
        "y_pred_test = (y_proba_test > 0.5).astype(int)\n",
        "print(\"\\nResNet50 Test Results:\")\n",
        "print(classification_report(y_test, y_pred_test))\n",
        "print(\"Accuracy:\", accuracy_score(y_test,y_pred_test))\n",
        "print(\"AUC Score:\", roc_auc_score(y_test,y_proba_test))"
      ],
      "metadata": {
        "trusted": true,
        "execution": {
          "iopub.status.busy": "2025-05-01T13:44:45.668948Z",
          "iopub.execute_input": "2025-05-01T13:44:45.669218Z",
          "iopub.status.idle": "2025-05-01T13:49:10.509279Z",
          "shell.execute_reply.started": "2025-05-01T13:44:45.669197Z",
          "shell.execute_reply": "2025-05-01T13:49:10.508511Z"
        },
        "id": "FxRhdJmmx-hZ"
      },
      "outputs": [],
      "execution_count": null
    },
    {
      "cell_type": "code",
      "source": [
        "from sklearn.metrics import confusion_matrix\n",
        "import seaborn as sns\n",
        "import matplotlib.pyplot as plt\n",
        "\n",
        "cm = confusion_matrix(y_test, y_pred_test)\n",
        "class_labels = ['negative', 'positive']\n",
        "\n",
        "plt.figure(figsize=(6, 5))\n",
        "sns.heatmap(cm, annot=True, fmt='d', cmap='Blues',\n",
        "            xticklabels=class_labels, yticklabels=class_labels)\n",
        "plt.title('Confusion Matrix - ResNet50')\n",
        "plt.xlabel('Predicted')\n",
        "plt.ylabel('Actual')\n",
        "plt.show()"
      ],
      "metadata": {
        "trusted": true,
        "execution": {
          "iopub.status.busy": "2025-05-01T13:56:19.806999Z",
          "iopub.execute_input": "2025-05-01T13:56:19.807288Z",
          "iopub.status.idle": "2025-05-01T13:56:20.497089Z",
          "shell.execute_reply.started": "2025-05-01T13:56:19.807265Z",
          "shell.execute_reply": "2025-05-01T13:56:20.496317Z"
        },
        "id": "PnZODZLxx-hZ"
      },
      "outputs": [],
      "execution_count": null
    },
    {
      "cell_type": "markdown",
      "source": [
        "# **The Explainability Techniques**"
      ],
      "metadata": {
        "id": "mmfibzI_x-hZ"
      }
    },
    {
      "cell_type": "markdown",
      "source": [
        "**LIME**"
      ],
      "metadata": {
        "id": "lb5JVVYyx-hZ"
      }
    },
    {
      "cell_type": "code",
      "source": [
        "!pip install lime"
      ],
      "metadata": {
        "trusted": true,
        "execution": {
          "iopub.status.busy": "2025-05-01T14:02:20.828073Z",
          "iopub.execute_input": "2025-05-01T14:02:20.828705Z",
          "iopub.status.idle": "2025-05-01T14:02:25.584673Z",
          "shell.execute_reply.started": "2025-05-01T14:02:20.828681Z",
          "shell.execute_reply": "2025-05-01T14:02:25.583664Z"
        },
        "id": "y40Bsfbpx-hZ"
      },
      "outputs": [],
      "execution_count": null
    },
    {
      "cell_type": "code",
      "source": [
        "explainer = lime_image.LimeImageExplainer()\n",
        "def predict_fn(images):\n",
        "    images = np.array(images)\n",
        "    return model.predict(images)\n",
        "idx = 0\n",
        "img = test_gen[idx][0]\n",
        "img_class = test_gen[idx][1]\n",
        "explanation = explainer.explain_instance(img[0], predict_fn, top_labels=2, hide_color=0, num_samples=1000)\n",
        "\n"
      ],
      "metadata": {
        "trusted": true,
        "execution": {
          "iopub.status.busy": "2025-05-01T15:06:04.566844Z",
          "iopub.execute_input": "2025-05-01T15:06:04.567355Z",
          "iopub.status.idle": "2025-05-01T15:06:15.956497Z",
          "shell.execute_reply.started": "2025-05-01T15:06:04.567331Z",
          "shell.execute_reply": "2025-05-01T15:06:15.955757Z"
        },
        "id": "b4xuTyBEx-hZ"
      },
      "outputs": [],
      "execution_count": null
    },
    {
      "cell_type": "code",
      "source": [
        "temp, mask = explanation.get_image_and_mask(explanation.top_labels[0], positive_only=True, num_features=5, hide_rest=True)\n",
        "\n",
        "plt.figure(figsize=(10, 5))\n",
        "plt.subplot(1, 2, 1)\n",
        "plt.imshow(img[0])\n",
        "plt.title(f\"Original Image (Label: {img_class[0]})\")\n",
        "\n",
        "plt.subplot(1, 2, 2)\n",
        "plt.imshow(temp)\n",
        "plt.title(f\"Explanation Mask (Top Label: {explanation.top_labels[0]})\")\n",
        "plt.show()\n"
      ],
      "metadata": {
        "trusted": true,
        "execution": {
          "iopub.status.busy": "2025-05-01T15:06:24.020816Z",
          "iopub.execute_input": "2025-05-01T15:06:24.021317Z",
          "iopub.status.idle": "2025-05-01T15:06:24.367163Z",
          "shell.execute_reply.started": "2025-05-01T15:06:24.021297Z",
          "shell.execute_reply": "2025-05-01T15:06:24.366295Z"
        },
        "id": "I1AG6J0qx-hZ"
      },
      "outputs": [],
      "execution_count": null
    }
  ]
}